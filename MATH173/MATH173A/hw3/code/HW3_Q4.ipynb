{
 "cells": [
  {
   "cell_type": "markdown",
   "metadata": {},
   "source": [
    "# Overview:  HW3 - Question 4\n",
    "\n",
    "In this coding question, you'll implement a classifier with logistic regression\n",
    "$$ F(w) = \\frac{1}{N} \\sum_{i=1}^N \\log( 1 + e^{-\\langle w, x_i \\rangle y_i} ). $$\n",
    "\n",
    "For this problem, I would suggest using functions to prepare the dataset, run gradient descent, and return classification error.  By doing this, you only have to write the code one time and just use the functions to return results for part (4c)."
   ]
  },
  {
   "cell_type": "markdown",
   "metadata": {},
   "source": [
    "# Loading MNIST Data\n",
    "\n",
    "In this section, you will learn to load MNIST data.  If you do not have tensorflow available on your jupyter notebook, uncomment the next cell, run it, restart the kernel, and comment the next cell once more."
   ]
  },
  {
   "cell_type": "code",
   "execution_count": 82,
   "metadata": {},
   "outputs": [],
   "source": [
    "# !pip3 install scikit-learn"
   ]
  },
  {
   "cell_type": "code",
   "execution_count": 83,
   "metadata": {},
   "outputs": [],
   "source": [
    "# import statements\n",
    "import pandas as pd\n",
    "import numpy as np\n",
    "import random\n",
    "from matplotlib import pyplot as plt\n",
    "from sklearn.datasets import fetch_openml"
   ]
  },
  {
   "cell_type": "code",
   "execution_count": 84,
   "metadata": {},
   "outputs": [
    {
     "name": "stdout",
     "output_type": "stream",
     "text": [
      "X shape: (70000, 784) y shape: (70000,)\n"
     ]
    }
   ],
   "source": [
    "# this cell will take a minute to run depending on your internet connection\n",
    "X, y = fetch_openml('mnist_784', version=1, return_X_y=True) # getting data from online\n",
    "print('X shape:', X.shape, 'y shape:', y.shape)"
   ]
  },
  {
   "cell_type": "code",
   "execution_count": 85,
   "metadata": {},
   "outputs": [
    {
     "name": "stdout",
     "output_type": "stream",
     "text": [
      "Shape of data with label 0 : (6903, 28, 28)\n",
      "Shape of data with label 1 : (7877, 28, 28)\n",
      "Shape of data with label 2 : (6990, 28, 28)\n",
      "Shape of data with label 3 : (7141, 28, 28)\n",
      "Shape of data with label 4 : (6824, 28, 28)\n",
      "Shape of data with label 5 : (6313, 28, 28)\n",
      "Shape of data with label 6 : (6876, 28, 28)\n",
      "Shape of data with label 7 : (7293, 28, 28)\n",
      "Shape of data with label 8 : (6825, 28, 28)\n",
      "Shape of data with label 9 : (6958, 28, 28)\n"
     ]
    }
   ],
   "source": [
    "# this cell processes some of the data\n",
    "\n",
    "# if this returns an error of the form \"KeyError: 0\", then try running the following first:\n",
    "# X = X.values # this converts X from a pandas dataframe to a numpy array\n",
    "\n",
    "X = X.values\n",
    "digits = {j:[] for j in range(10)}\n",
    "for j in range(len(y)): # takes data assigns it into a dictionary\n",
    "    digits[int(y[j])].append(X[j].reshape(28,28))\n",
    "digits = {j:np.stack(digits[j]) for j in range(10)} # stack everything to be one numpy array\n",
    "for j in range(10):\n",
    "    print('Shape of data with label', j, ':', digits[j].shape )"
   ]
  },
  {
   "cell_type": "code",
   "execution_count": null,
   "metadata": {},
   "outputs": [
    {
     "data": {
      "text/plain": [
       "(1000, 784)"
      ]
     },
     "execution_count": 86,
     "metadata": {},
     "output_type": "execute_result"
    }
   ],
   "source": [
    "# this cell would stack 100 examples from each class together\n",
    "# this cell also ensures that each pixel is a flot between 0 and 1 instead of an int between 0 and 255\n",
    "data = []\n",
    "\n",
    "for i in range(10):\n",
    "    flattened_images = digits[i][:100].reshape(100,-1)\n",
    "    data.append(flattened_images)\n",
    "    \n",
    "data = np.vstack(data)\n",
    "data = data.astype('float32') / 255.0\n",
    "data.shape"
   ]
  },
  {
   "cell_type": "markdown",
   "metadata": {},
   "source": [
    "# (4a) Plotting\n",
    "\n",
    "Display one randomly selected image from your training data for each digit class. Provide the index number for each image."
   ]
  },
  {
   "cell_type": "code",
   "execution_count": null,
   "metadata": {},
   "outputs": [
    {
     "data": {
      "image/png": "[encoded data removed]",
      "text/plain": [
       "<Figure size 2000x1000 with 10 Axes>"
      ]
     },
     "metadata": {},
     "output_type": "display_data"
    }
   ],
   "source": [
    "plt.figure(figsize=(20, 10))\n",
    "for i in range(10):\n",
    "    index = random.randint(0, digits[i].shape[0] - 1)\n",
    "    plt.subplot(1, 10, i+1)\n",
    "    plt.imshow(digits[i][index]) \n",
    "    plt.axis('off')\n",
    "    plt.title(f\"index: {index}\")\n",
    "plt.show()"
   ]
  },
  {
   "cell_type": "markdown",
   "metadata": {},
   "source": [
    "# (4b) Label data\n",
    "\n",
    "Select the first 500 examples of 0’s and 1’s for this example, those will form the training data $(x_i , y_i) \\in \\mathbb{R}^{784} \\times \\{−1,1\\}, i = 1,...,1000$. Assign label $y_i = 1$ for 1s and $y_i = −1$ for 0s.  Also, renormalize your $x_i$ so that the pixel values are floats between 0 and 1, instead of ints from 0 to 255.  You can do this by augmenting the code given above for stacking data from different classes."
   ]
  },
  {
   "cell_type": "code",
   "execution_count": null,
   "metadata": {},
   "outputs": [
    {
     "data": {
      "text/plain": [
       "(1000, 784)"
      ]
     },
     "execution_count": 105,
     "metadata": {},
     "output_type": "execute_result"
    }
   ],
   "source": [
    "x_0 = digits[0][:500].reshape(500,-1)\n",
    "x_1 = digits[1][:500].reshape(500,-1)\n",
    "\n",
    "x_train = np.vstack((x_0, x_1))\n",
    "y_train = np.hstack((-1 * np.ones(500), np.ones(500)))"
   ]
  },
  {
   "cell_type": "markdown",
   "metadata": {},
   "source": [
    "# (4c) Running Gradient Descent\n",
    "\n",
    "Implement and run a Gradient Descent algorithm, with step-size $\\mu = 10^{-4}$, to optimize the function above associated with this setup. You should run your algorithm for at least $T = 10,000$ iterations, but if your computer can handle it try $T=100,000$ or until a reasonable stopping criterion is satisfied.  Provide a plot showing the value of $F(w)$ at each iteration. Also, feel free to adjust $\\mu$ to be larger / smaller if the plot does not match your expectations."
   ]
  },
  {
   "cell_type": "code",
   "execution_count": 118,
   "metadata": {},
   "outputs": [
    {
     "data": {
      "image/png": "[encoded data removed]",
      "text/plain": [
       "<Figure size 640x480 with 1 Axes>"
      ]
     },
     "metadata": {},
     "output_type": "display_data"
    }
   ],
   "source": [
    "mu = 1e-4\n",
    "T = 100000\n",
    "\n",
    "w_values = []\n",
    "iterations = range(T)\n",
    "\n",
    "def F(w):\n",
    "    sum = 0\n",
    "    N = len(x_train)\n",
    "    for i in range(N):\n",
    "        sum += np.log(1 + np.exp(-y_train[i] * np.dot(w, x_train[i])))\n",
    "    return sum / N\n",
    "\n",
    "def dF(w):\n",
    "    sum = 0\n",
    "    N = len(x_train)\n",
    "    for i in range(N):\n",
    "        sum += -y_train[i] * np.exp(-y_train[i] * np.dot(w, x_train[i])) * x_train[i] / (1 + np.exp(-y_train[i] * np.dot(w, x_train[i])))\n",
    "    return sum / N\n",
    "    \n",
    "w = np.zeros(x_train.shape[1])\n",
    "for i in iterations:\n",
    "    w_values.append(F(w))\n",
    "    w = w - mu * dF(w)\n",
    "\n",
    "plt.plot(iterations, w_values, marker='.')\n",
    "plt.xlabel(\"Iteration\")\n",
    "plt.ylabel(r\"Value of $F(w)$\")\n",
    "plt.show()"
   ]
  },
  {
   "cell_type": "markdown",
   "metadata": {},
   "source": [
    "# (4d) Discussion about gradient descent\n",
    "\n",
    "Comment on the resulting plot. In particular, does the shape of $F(w)$ suggest you've successfully converged to a local or global minimum?  Does it appear you chose a good stopping criteria?  Explain whether your\n",
    "answers to these questions are consistent with the theory we discussed in class (and in the\n",
    "notes). Be specific i.e., point to a specific theorem (or theorems) and indicate\n",
    "why it does or does not explain the behavior of the algorithm.  Would the theory dictate a different choice of $\\mu$ than the one we used?"
   ]
  },
  {
   "cell_type": "markdown",
   "metadata": {},
   "source": [
    "### Put discussion here:\n",
    "\n",
    "Yes, the plot suggests that we has converged to a minimum. Since we have proved\n",
    "$F(w)$ is convex, the minimum we reached is a global minimum. Notice that\n",
    "$\\nabla F(w)$ we computed in homework 2 is bounded, so $F(w)$ is $L$-smooth.\n",
    "Assuming that our choice of $\\mu$ is sufficiently small. By a Theorem in Lecture\n",
    "8, $$F(w^{(t)}) \\leq \\frac{\\|w^{(0)} - w^*\\|^2}{2\\mu t} + F(w^*).$$ This suggests\n",
    "that $F(w^{(t)})$ is of order $O(1/t)$, which matches with our result. The theorem\n",
    "suggests us to pick $\\mu = 1/L$, but the value of $L$ is unknown so we are\n",
    "unsure whether it is a different choice than ours."
   ]
  },
  {
   "cell_type": "markdown",
   "metadata": {},
   "source": [
    "Now, use the $w$ you found from part (a) to classify the first 500 \\emph{test} data points associated to\n",
    "each of the 0 and 1 handwritten digits. Recall that you need to use the function $y = \\text{sign}(w^T x)$\n",
    "to classify. What was the classification error rate associated with the two digits on the test\n",
    "data (this should be a number between 0 and 1)? What was it on the training data?  Does this relationship make sense?"
   ]
  },
  {
   "cell_type": "code",
   "execution_count": 119,
   "metadata": {},
   "outputs": [
    {
     "name": "stdout",
     "output_type": "stream",
     "text": [
      "Error rate: 0.1 %\n"
     ]
    }
   ],
   "source": [
    "x_0_test = digits[0][500:1000].reshape(500,-1)\n",
    "x_1_test = digits[1][500:1000].reshape(500,-1)\n",
    "\n",
    "x_test = np.vstack((x_0_test, x_1_test))\n",
    "y_test = np.hstack((-1 * np.ones(500), np.ones(500)))\n",
    "\n",
    "error = 0\n",
    "\n",
    "for i in range(1000):\n",
    "    if np.dot(w, x_test[i]) > 0:\n",
    "        y_test[i] = 1\n",
    "    else:\n",
    "        y_test[i] = -1\n",
    "    error += (y_test[i] != y_train[i])\n",
    "\n",
    "print(\"Error rate:\", error / 1000 * 100, \"%\")"
   ]
  }
 ],
 "metadata": {
  "kernelspec": {
   "display_name": "Python 3",
   "language": "python",
   "name": "python3"
  },
  "language_info": {
   "codemirror_mode": {
    "name": "ipython",
    "version": 3
   },
   "file_extension": ".py",
   "mimetype": "text/x-python",
   "name": "python",
   "nbconvert_exporter": "python",
   "pygments_lexer": "ipython3",
   "version": "3.10.1"
  },
  "toc": {
   "base_numbering": 1,
   "nav_menu": {},
   "number_sections": true,
   "sideBar": true,
   "skip_h1_title": false,
   "title_cell": "Table of Contents",
   "title_sidebar": "Contents",
   "toc_cell": false,
   "toc_position": {},
   "toc_section_display": true,
   "toc_window_display": false
  }
 },
 "nbformat": 4,
 "nbformat_minor": 4
}
