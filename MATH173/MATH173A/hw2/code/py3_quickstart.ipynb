{
 "cells": [
  {
   "cell_type": "markdown",
   "id": "48cfb9d3-7238-411a-acf9-9292bff6b721",
   "metadata": {},
   "source": [
    "# NumPy, Pandas, Matplotlib quickstart"
   ]
  },
  {
   "cell_type": "markdown",
   "id": "9b8b7bed-ef4a-45e1-8c1a-f815a0b7febd",
   "metadata": {},
   "source": [
    "Numpy, Pandas, Matplotlib are essential Python 3 libraries for machine learning, scientific computation, and data visualization. They can be used to solve homework problems in MATH 173A. This tutorial is provided by MATH 173A TA Jinjie Zhang. Use following links to learn more about Python open source libraries for machine/deep learning:\n",
    "[NumPy](https://numpy.org/doc/stable/), [Pandas](https://pandas.pydata.org/docs/), [Matplotlib](https://matplotlib.org/stable/contents.html), [Scipy](https://scipy.org/docs.html), [scikit-learn](https://scikit-learn.org/stable/user_guide.html), [PyTorch](https://pytorch.org/tutorials/). Please feel free to reach out if you have any question (Email: jiz003@ucsd.edu)."
   ]
  },
  {
   "cell_type": "markdown",
   "id": "5d597954-0f46-4c5c-bd45-7f5e15c4e156",
   "metadata": {},
   "source": [
    "## NumPy"
   ]
  },
  {
   "cell_type": "markdown",
   "id": "9ec8de10-6508-41fc-bd14-1a7766a4dbf1",
   "metadata": {},
   "source": [
    "NumPy enriches the programming language Python with powerful data structures, implementing multi-dimensional arrays and matrices. NumPy can be installed with conda or pip, see [https://numpy.org/install/](https://numpy.org/install/). Before we can use NumPy we have to import it. It has to be imported like any other module:"
   ]
  },
  {
   "cell_type": "code",
   "execution_count": 1,
   "id": "966b8e4c-791e-49e8-825b-92a37454da6e",
   "metadata": {},
   "outputs": [],
   "source": [
    "import numpy as np    # NumPy is usually renamed to np for simplicity"
   ]
  },
  {
   "cell_type": "markdown",
   "id": "73482385-e33d-47d4-9091-c1e96a8d0f77",
   "metadata": {},
   "source": [
    "One-dimensional Arrays"
   ]
  },
  {
   "cell_type": "code",
   "execution_count": 2,
   "id": "1c2de274-5d20-4bd2-9ca6-491fa66f5684",
   "metadata": {},
   "outputs": [
    {
     "data": {
      "text/plain": [
       "array([ 2.1,  3. , -4.4])"
      ]
     },
     "execution_count": 2,
     "metadata": {},
     "output_type": "execute_result"
    }
   ],
   "source": [
    "arr1 = np.array([2.1, 3., -4.4])\n",
    "arr1"
   ]
  },
  {
   "cell_type": "code",
   "execution_count": 3,
   "id": "d8bbb94a-7752-40e6-82cb-1d2c94de4332",
   "metadata": {},
   "outputs": [
    {
     "name": "stdout",
     "output_type": "stream",
     "text": [
      "(3,)\n"
     ]
    }
   ],
   "source": [
    "print(arr1.shape)  # length is 3"
   ]
  },
  {
   "cell_type": "markdown",
   "id": "fbec7e3f-12bb-4e6b-94b1-582b9bda5799",
   "metadata": {},
   "source": [
    "Two and Multidimensional Arrays"
   ]
  },
  {
   "cell_type": "code",
   "execution_count": 4,
   "id": "c887a525-3384-4dbc-8e8a-851a47c72093",
   "metadata": {},
   "outputs": [
    {
     "data": {
      "text/plain": [
       "array([[ 3.4,  8.7,  9.9],\n",
       "       [ 1.1, -7.8, -0.7],\n",
       "       [ 4.1, 12.3,  4.8]])"
      ]
     },
     "execution_count": 4,
     "metadata": {},
     "output_type": "execute_result"
    }
   ],
   "source": [
    "np.array([ [3.4, 8.7, 9.9], \n",
    "           [1.1, -7.8, -0.7],\n",
    "           [4.1, 12.3, 4.8]])    # 2-dimensional array"
   ]
  },
  {
   "cell_type": "code",
   "execution_count": 5,
   "id": "0ece733b-799a-4be2-b129-255cc18a24ae",
   "metadata": {},
   "outputs": [
    {
     "data": {
      "text/plain": [
       "array([[[ 0.44194346,  0.51357764,  0.87361149,  0.58432411],\n",
       "        [ 1.67347653, -0.3821881 , -1.05132557, -1.03476504],\n",
       "        [-1.06465083,  1.704547  , -0.08023418, -0.62219847]],\n",
       "\n",
       "       [[ 0.76738283, -0.28049025,  0.19713803,  0.82955704],\n",
       "        [-0.35860671, -1.24351186,  0.42829844,  0.31013245],\n",
       "        [ 0.92693583,  0.38497784, -0.54131391, -1.31843276]]])"
      ]
     },
     "execution_count": 5,
     "metadata": {},
     "output_type": "execute_result"
    }
   ],
   "source": [
    "arr2 = np.random.randn(2,3,4)\n",
    "arr2   # random matrix with normal distribution"
   ]
  },
  {
   "cell_type": "code",
   "execution_count": 6,
   "id": "19cfcc0a-4ff4-4f46-9318-3d8c2436289c",
   "metadata": {},
   "outputs": [
    {
     "data": {
      "text/plain": [
       "(2, 3, 4)"
      ]
     },
     "execution_count": 6,
     "metadata": {},
     "output_type": "execute_result"
    }
   ],
   "source": [
    "arr2.shape   # 3-dimensional array"
   ]
  },
  {
   "cell_type": "code",
   "execution_count": 7,
   "id": "569b162f-9af2-4596-b6f9-11900d605031",
   "metadata": {},
   "outputs": [
    {
     "data": {
      "text/plain": [
       "array([[ 1.67347653, -0.3821881 , -1.05132557, -1.03476504],\n",
       "       [-1.06465083,  1.704547  , -0.08023418, -0.62219847]])"
      ]
     },
     "execution_count": 7,
     "metadata": {},
     "output_type": "execute_result"
    }
   ],
   "source": [
    "arr2[0, 1:]  # slicing like python list"
   ]
  },
  {
   "cell_type": "markdown",
   "id": "4bd6603d-fbf1-4e54-8a57-fbcdea3ff948",
   "metadata": {},
   "source": [
    "Adding scalars to arrays:"
   ]
  },
  {
   "cell_type": "code",
   "execution_count": 8,
   "id": "cff2ae15-a81a-49a6-b0a8-853027a434ef",
   "metadata": {},
   "outputs": [
    {
     "data": {
      "text/plain": [
       "array([ 4.  ,  5.  ,  9.9 ,  5.3 ,  8.9 ,  2.11, 12.3 , 14.9 ])"
      ]
     },
     "execution_count": 8,
     "metadata": {},
     "output_type": "execute_result"
    }
   ],
   "source": [
    "l = [2,3, 7.9, 3.3, 6.9, 0.11, 10.3, 12.9]\n",
    "v = np.array(l)\n",
    "v = v + 2  # the scaler 2 is “broadcast” across the larger array v so that they have compatible shapes\n",
    "v   # pointwise addition"
   ]
  },
  {
   "cell_type": "markdown",
   "id": "f2929286-5398-483b-b353-256f96fa2964",
   "metadata": {},
   "source": [
    "Matrix addition/multiplication"
   ]
  },
  {
   "cell_type": "code",
   "execution_count": 9,
   "id": "32d03f15-fd50-48b9-86e3-394bab09f337",
   "metadata": {},
   "outputs": [],
   "source": [
    "A = np.array([ [11, 12, 13], [21, 22, 23], [31, 32, 33] ])\n",
    "B = np.ones((3,3))"
   ]
  },
  {
   "cell_type": "code",
   "execution_count": 10,
   "id": "f040db9f-d03a-4568-9e94-3727a38e3558",
   "metadata": {},
   "outputs": [
    {
     "data": {
      "text/plain": [
       "array([[12., 13., 14.],\n",
       "       [22., 23., 24.],\n",
       "       [32., 33., 34.]])"
      ]
     },
     "execution_count": 10,
     "metadata": {},
     "output_type": "execute_result"
    }
   ],
   "source": [
    "A + B"
   ]
  },
  {
   "cell_type": "code",
   "execution_count": 11,
   "id": "fd677e58-a220-41fb-83b4-14e0fddfb35e",
   "metadata": {},
   "outputs": [
    {
     "data": {
      "text/plain": [
       "array([[36., 36., 36.],\n",
       "       [66., 66., 66.],\n",
       "       [96., 96., 96.]])"
      ]
     },
     "execution_count": 11,
     "metadata": {},
     "output_type": "execute_result"
    }
   ],
   "source": [
    "np.dot(A, B)  "
   ]
  },
  {
   "cell_type": "code",
   "execution_count": 12,
   "id": "7b760c61-403d-49c8-adbf-d0f0d8109d39",
   "metadata": {},
   "outputs": [
    {
     "data": {
      "text/plain": [
       "array([[36., 36., 36.],\n",
       "       [66., 66., 66.],\n",
       "       [96., 96., 96.]])"
      ]
     },
     "execution_count": 12,
     "metadata": {},
     "output_type": "execute_result"
    }
   ],
   "source": [
    "A @ B  # equivalent to np.dot(A, B)"
   ]
  },
  {
   "cell_type": "markdown",
   "id": "47b5b8c1-d4f4-48e2-8265-2fa99c2678a4",
   "metadata": {},
   "source": [
    "Changing the Dimensions of Arrays"
   ]
  },
  {
   "cell_type": "code",
   "execution_count": 13,
   "id": "45a865c9-f0f1-4b77-a21d-fdd8b012346d",
   "metadata": {},
   "outputs": [
    {
     "data": {
      "text/plain": [
       "array([[[ 0,  1],\n",
       "        [ 2,  3],\n",
       "        [ 4,  5],\n",
       "        [ 6,  7]],\n",
       "\n",
       "       [[ 8,  9],\n",
       "        [10, 11],\n",
       "        [12, 13],\n",
       "        [14, 15]],\n",
       "\n",
       "       [[16, 17],\n",
       "        [18, 19],\n",
       "        [20, 21],\n",
       "        [22, 23]]])"
      ]
     },
     "execution_count": 13,
     "metadata": {},
     "output_type": "execute_result"
    }
   ],
   "source": [
    "X = np.array(range(24))   # 1d array\n",
    "Y = X.reshape((3,4,2))  # 3d array\n",
    "Y"
   ]
  },
  {
   "cell_type": "markdown",
   "id": "f5d83809-1617-4c3e-9659-161b921f8707",
   "metadata": {},
   "source": [
    "Vector stacking"
   ]
  },
  {
   "cell_type": "code",
   "execution_count": 14,
   "id": "6ac11001-9b59-49b6-8d3b-c2e9249aeeb6",
   "metadata": {},
   "outputs": [
    {
     "name": "stdout",
     "output_type": "stream",
     "text": [
      "[[3 4 5]\n",
      " [1 9 0]]\n",
      "[[3 1]\n",
      " [4 9]\n",
      " [5 0]]\n"
     ]
    },
    {
     "data": {
      "text/plain": [
       "((3,), (3,))"
      ]
     },
     "execution_count": 14,
     "metadata": {},
     "output_type": "execute_result"
    }
   ],
   "source": [
    "A = np.array([3, 4, 5])\n",
    "B = np.array([1,9,0])\n",
    "print(np.row_stack((A, B)))   # concatenate arrays by rows\n",
    "print(np.column_stack((A, B)))  # concatenate arrays by columns\n",
    "np.shape(A), np.shape(B)"
   ]
  },
  {
   "cell_type": "markdown",
   "id": "c1a47df1-1244-4457-bb11-0e949d80b807",
   "metadata": {},
   "source": [
    "Adding new dimensions"
   ]
  },
  {
   "cell_type": "code",
   "execution_count": 15,
   "id": "fc6fe9d4-d378-4402-8a09-636906264d52",
   "metadata": {},
   "outputs": [
    {
     "data": {
      "text/plain": [
       "(5, 1)"
      ]
     },
     "execution_count": 15,
     "metadata": {},
     "output_type": "execute_result"
    }
   ],
   "source": [
    "x = np.array([2,5,18,14,4])\n",
    "y = x[:, np.newaxis]  # equivalent to x[:, None]\n",
    "y.shape"
   ]
  },
  {
   "cell_type": "markdown",
   "id": "d4934670-6ede-486d-aeb5-5a206ed264c4",
   "metadata": {},
   "source": [
    "## Pandas"
   ]
  },
  {
   "cell_type": "markdown",
   "id": "af4f57e1-2228-4151-b0a5-31140460a5e8",
   "metadata": {},
   "source": [
    "Pandas is used for data manipulation and analysis. It provides special data structures and operations for the manipulation of numerical tables and time series. Let's explore the DataFrame. In MATH 173A, Pandas can be used to process data stored in a csv file."
   ]
  },
  {
   "cell_type": "code",
   "execution_count": null,
   "id": "4acbe632",
   "metadata": {},
   "outputs": [],
   "source": []
  },
  {
   "cell_type": "code",
   "execution_count": 1,
   "id": "33fddcc0-e4fe-4257-9e95-83d44f57fa0c",
   "metadata": {},
   "outputs": [
    {
     "ename": "ModuleNotFoundError",
     "evalue": "No module named 'pandas'",
     "output_type": "error",
     "traceback": [
      "\u001b[0;31m---------------------------------------------------------------------------\u001b[0m",
      "\u001b[0;31mModuleNotFoundError\u001b[0m                       Traceback (most recent call last)",
      "Cell \u001b[0;32mIn[1], line 1\u001b[0m\n\u001b[0;32m----> 1\u001b[0m \u001b[38;5;28;01mimport\u001b[39;00m \u001b[38;5;21;01mpandas\u001b[39;00m \u001b[38;5;28;01mas\u001b[39;00m \u001b[38;5;21;01mpd\u001b[39;00m  \u001b[38;5;66;03m# import pandas\u001b[39;00m\n\u001b[1;32m      2\u001b[0m \u001b[38;5;124;03m\"\"\"\u001b[39;00m\n\u001b[1;32m      3\u001b[0m \u001b[38;5;124;03mUse pd.read_csv('data.csv') to read a csv file and get a DataFrame\u001b[39;00m\n\u001b[1;32m      4\u001b[0m \u001b[38;5;124;03m\"\"\"\u001b[39;00m\n",
      "\u001b[0;31mModuleNotFoundError\u001b[0m: No module named 'pandas'"
     ]
    }
   ],
   "source": [
    "import pandas as pd  # import pandas\n",
    "\"\"\"\n",
    "Use pd.read_csv('data.csv') to read a csv file and get a DataFrame\n",
    "\"\"\""
   ]
  },
  {
   "cell_type": "code",
   "execution_count": 17,
   "id": "ae494484-8a40-4ed9-88f2-616d6f6715ae",
   "metadata": {},
   "outputs": [
    {
     "data": {
      "text/html": [
       "<div>\n",
       "<style scoped>\n",
       "    .dataframe tbody tr th:only-of-type {\n",
       "        vertical-align: middle;\n",
       "    }\n",
       "\n",
       "    .dataframe tbody tr th {\n",
       "        vertical-align: top;\n",
       "    }\n",
       "\n",
       "    .dataframe thead th {\n",
       "        text-align: right;\n",
       "    }\n",
       "</style>\n",
       "<table border=\"1\" class=\"dataframe\">\n",
       "  <thead>\n",
       "    <tr style=\"text-align: right;\">\n",
       "      <th></th>\n",
       "      <th>0</th>\n",
       "      <th>1</th>\n",
       "      <th>2</th>\n",
       "    </tr>\n",
       "  </thead>\n",
       "  <tbody>\n",
       "    <tr>\n",
       "      <th>2014</th>\n",
       "      <td>2409.14</td>\n",
       "      <td>1203.45</td>\n",
       "      <td>3412.12</td>\n",
       "    </tr>\n",
       "    <tr>\n",
       "      <th>2015</th>\n",
       "      <td>2941.01</td>\n",
       "      <td>3441.62</td>\n",
       "      <td>3491.16</td>\n",
       "    </tr>\n",
       "    <tr>\n",
       "      <th>2016</th>\n",
       "      <td>3496.83</td>\n",
       "      <td>3007.83</td>\n",
       "      <td>3457.19</td>\n",
       "    </tr>\n",
       "    <tr>\n",
       "      <th>2017</th>\n",
       "      <td>3119.55</td>\n",
       "      <td>3619.53</td>\n",
       "      <td>1963.10</td>\n",
       "    </tr>\n",
       "  </tbody>\n",
       "</table>\n",
       "</div>"
      ],
      "text/plain": [
       "            0        1        2\n",
       "2014  2409.14  1203.45  3412.12\n",
       "2015  2941.01  3441.62  3491.16\n",
       "2016  3496.83  3007.83  3457.19\n",
       "2017  3119.55  3619.53  1963.10"
      ]
     },
     "execution_count": 17,
     "metadata": {},
     "output_type": "execute_result"
    }
   ],
   "source": [
    "# But you can create your own DataFrame\n",
    "\n",
    "years = range(2014, 2018)\n",
    "shop1 = pd.Series([2409.14, 2941.01, 3496.83, 3119.55], index=years)  # Series structure in Pandas\n",
    "shop2 = pd.Series([1203.45, 3441.62, 3007.83, 3619.53], index=years)\n",
    "shop3 = pd.Series([3412.12, 3491.16, 3457.19, 1963.10], index=years)\n",
    "\n",
    "shops_df = pd.concat([shop1, shop2, shop3], axis=1)  # construct DataFrame\n",
    "shops_df  "
   ]
  },
  {
   "cell_type": "code",
   "execution_count": 18,
   "id": "a8052ff0-69e9-4c04-9462-ccfe26fa851b",
   "metadata": {},
   "outputs": [
    {
     "data": {
      "text/html": [
       "<div>\n",
       "<style scoped>\n",
       "    .dataframe tbody tr th:only-of-type {\n",
       "        vertical-align: middle;\n",
       "    }\n",
       "\n",
       "    .dataframe tbody tr th {\n",
       "        vertical-align: top;\n",
       "    }\n",
       "\n",
       "    .dataframe thead th {\n",
       "        text-align: right;\n",
       "    }\n",
       "</style>\n",
       "<table border=\"1\" class=\"dataframe\">\n",
       "  <thead>\n",
       "    <tr style=\"text-align: right;\">\n",
       "      <th></th>\n",
       "      <th>LA</th>\n",
       "      <th>SD</th>\n",
       "      <th>SF</th>\n",
       "    </tr>\n",
       "  </thead>\n",
       "  <tbody>\n",
       "    <tr>\n",
       "      <th>2014</th>\n",
       "      <td>2409.14</td>\n",
       "      <td>1203.45</td>\n",
       "      <td>3412.12</td>\n",
       "    </tr>\n",
       "    <tr>\n",
       "      <th>2015</th>\n",
       "      <td>2941.01</td>\n",
       "      <td>3441.62</td>\n",
       "      <td>3491.16</td>\n",
       "    </tr>\n",
       "    <tr>\n",
       "      <th>2016</th>\n",
       "      <td>3496.83</td>\n",
       "      <td>3007.83</td>\n",
       "      <td>3457.19</td>\n",
       "    </tr>\n",
       "    <tr>\n",
       "      <th>2017</th>\n",
       "      <td>3119.55</td>\n",
       "      <td>3619.53</td>\n",
       "      <td>1963.10</td>\n",
       "    </tr>\n",
       "  </tbody>\n",
       "</table>\n",
       "</div>"
      ],
      "text/plain": [
       "           LA       SD       SF\n",
       "2014  2409.14  1203.45  3412.12\n",
       "2015  2941.01  3441.62  3491.16\n",
       "2016  3496.83  3007.83  3457.19\n",
       "2017  3119.55  3619.53  1963.10"
      ]
     },
     "execution_count": 18,
     "metadata": {},
     "output_type": "execute_result"
    }
   ],
   "source": [
    "cities = [\"LA\", \"SD\", \"SF\"]  \n",
    "shops_df.columns = cities # assigning names to the columns:\n",
    "shops_df"
   ]
  },
  {
   "cell_type": "code",
   "execution_count": 19,
   "id": "dffd977e-6bf1-4cb4-9397-2979a925c557",
   "metadata": {},
   "outputs": [
    {
     "data": {
      "text/html": [
       "<div>\n",
       "<style scoped>\n",
       "    .dataframe tbody tr th:only-of-type {\n",
       "        vertical-align: middle;\n",
       "    }\n",
       "\n",
       "    .dataframe tbody tr th {\n",
       "        vertical-align: top;\n",
       "    }\n",
       "\n",
       "    .dataframe thead th {\n",
       "        text-align: right;\n",
       "    }\n",
       "</style>\n",
       "<table border=\"1\" class=\"dataframe\">\n",
       "  <thead>\n",
       "    <tr style=\"text-align: right;\">\n",
       "      <th></th>\n",
       "      <th>population</th>\n",
       "      <th>country</th>\n",
       "    </tr>\n",
       "    <tr>\n",
       "      <th>name</th>\n",
       "      <th></th>\n",
       "      <th></th>\n",
       "    </tr>\n",
       "  </thead>\n",
       "  <tbody>\n",
       "    <tr>\n",
       "      <th>London</th>\n",
       "      <td>8615246</td>\n",
       "      <td>England</td>\n",
       "    </tr>\n",
       "    <tr>\n",
       "      <th>Berlin</th>\n",
       "      <td>3562166</td>\n",
       "      <td>Germany</td>\n",
       "    </tr>\n",
       "    <tr>\n",
       "      <th>Madrid</th>\n",
       "      <td>3165235</td>\n",
       "      <td>Spain</td>\n",
       "    </tr>\n",
       "    <tr>\n",
       "      <th>Rome</th>\n",
       "      <td>2874038</td>\n",
       "      <td>Italy</td>\n",
       "    </tr>\n",
       "    <tr>\n",
       "      <th>Paris</th>\n",
       "      <td>2273305</td>\n",
       "      <td>France</td>\n",
       "    </tr>\n",
       "    <tr>\n",
       "      <th>Vienna</th>\n",
       "      <td>1805681</td>\n",
       "      <td>Austria</td>\n",
       "    </tr>\n",
       "    <tr>\n",
       "      <th>Bucharest</th>\n",
       "      <td>1803425</td>\n",
       "      <td>Romania</td>\n",
       "    </tr>\n",
       "    <tr>\n",
       "      <th>Hamburg</th>\n",
       "      <td>1760433</td>\n",
       "      <td>Germany</td>\n",
       "    </tr>\n",
       "    <tr>\n",
       "      <th>Budapest</th>\n",
       "      <td>1754000</td>\n",
       "      <td>Hungary</td>\n",
       "    </tr>\n",
       "    <tr>\n",
       "      <th>Warsaw</th>\n",
       "      <td>1740119</td>\n",
       "      <td>Poland</td>\n",
       "    </tr>\n",
       "    <tr>\n",
       "      <th>Barcelona</th>\n",
       "      <td>1602386</td>\n",
       "      <td>Spain</td>\n",
       "    </tr>\n",
       "    <tr>\n",
       "      <th>Munich</th>\n",
       "      <td>1493900</td>\n",
       "      <td>Germany</td>\n",
       "    </tr>\n",
       "    <tr>\n",
       "      <th>Milan</th>\n",
       "      <td>1350680</td>\n",
       "      <td>Italy</td>\n",
       "    </tr>\n",
       "  </tbody>\n",
       "</table>\n",
       "</div>"
      ],
      "text/plain": [
       "           population  country\n",
       "name                          \n",
       "London        8615246  England\n",
       "Berlin        3562166  Germany\n",
       "Madrid        3165235    Spain\n",
       "Rome          2874038    Italy\n",
       "Paris         2273305   France\n",
       "Vienna        1805681  Austria\n",
       "Bucharest     1803425  Romania\n",
       "Hamburg       1760433  Germany\n",
       "Budapest      1754000  Hungary\n",
       "Warsaw        1740119   Poland\n",
       "Barcelona     1602386    Spain\n",
       "Munich        1493900  Germany\n",
       "Milan         1350680    Italy"
      ]
     },
     "execution_count": 19,
     "metadata": {},
     "output_type": "execute_result"
    }
   ],
   "source": [
    "cities = {\"name\": [\"London\", \"Berlin\", \"Madrid\", \"Rome\", \n",
    "                   \"Paris\", \"Vienna\", \"Bucharest\", \"Hamburg\", \n",
    "                   \"Budapest\", \"Warsaw\", \"Barcelona\", \n",
    "                   \"Munich\", \"Milan\"],\n",
    "          \"population\": [8615246, 3562166, 3165235, 2874038,\n",
    "                         2273305, 1805681, 1803425, 1760433,\n",
    "                         1754000, 1740119, 1602386, 1493900,\n",
    "                         1350680],\n",
    "          \"country\": [\"England\", \"Germany\", \"Spain\", \"Italy\",\n",
    "                      \"France\", \"Austria\", \"Romania\", \n",
    "                      \"Germany\", \"Hungary\", \"Poland\", \"Spain\",\n",
    "                      \"Germany\", \"Italy\"]}\n",
    "\n",
    "city_frame = pd.DataFrame(cities) # DataFrames from Dictionaries\n",
    "city_frame = city_frame.set_index('name')  # set name column as index\n",
    "city_frame"
   ]
  },
  {
   "cell_type": "code",
   "execution_count": 20,
   "id": "2b9b9c16-5b5d-4de1-90c5-e999ce369b06",
   "metadata": {},
   "outputs": [
    {
     "data": {
      "text/plain": [
       "name\n",
       "London       England\n",
       "Berlin       Germany\n",
       "Madrid         Spain\n",
       "Rome           Italy\n",
       "Paris         France\n",
       "Vienna       Austria\n",
       "Bucharest    Romania\n",
       "Hamburg      Germany\n",
       "Budapest     Hungary\n",
       "Warsaw        Poland\n",
       "Barcelona      Spain\n",
       "Munich       Germany\n",
       "Milan          Italy\n",
       "Name: country, dtype: object"
      ]
     },
     "execution_count": 20,
     "metadata": {},
     "output_type": "execute_result"
    }
   ],
   "source": [
    "city_frame['country']  # choose a column"
   ]
  },
  {
   "cell_type": "markdown",
   "id": "b0c5ecbb-e001-4bba-b5f6-37584ad2f7e9",
   "metadata": {},
   "source": [
    "# Matplotlib"
   ]
  },
  {
   "cell_type": "markdown",
   "id": "72165e2d-bd94-48f1-a84e-c6f60c608387",
   "metadata": {},
   "source": [
    "Matplotlib is a comprehensive library for creating static, animated, and interactive visualizations in Python. "
   ]
  },
  {
   "cell_type": "code",
   "execution_count": 21,
   "id": "860a5733-0c3c-421f-9ba1-edbb75628941",
   "metadata": {},
   "outputs": [],
   "source": [
    "import matplotlib.pyplot as plt  # import matplotlib"
   ]
  },
  {
   "cell_type": "code",
   "execution_count": 22,
   "id": "1953b5e8-266e-4d5d-b141-0786cc5be5e9",
   "metadata": {},
   "outputs": [
    {
     "data": {
      "text/plain": [
       "<matplotlib.legend.Legend at 0x128593c50>"
      ]
     },
     "execution_count": 22,
     "metadata": {},
     "output_type": "execute_result"
    },
    {
     "data": {
      "image/png": "[encoded data removed]",
      "text/plain": [
       "<Figure size 864x360 with 1 Axes>"
      ]
     },
     "metadata": {
      "needs_background": "light"
     },
     "output_type": "display_data"
    }
   ],
   "source": [
    "fig = plt.figure(figsize=(12, 5))  # create a plot with size 12 * 5\n",
    "ax = fig.add_subplot(1, 1, 1)   # add a subplot at position (1, 1) \n",
    "ax.plot(city_frame.index, city_frame['population'], linestyle='--', color='g', label='population') # plot the curve of population against city\n",
    "ax.set_title('Plot of population')   # add a title\n",
    "ax.legend()  # add labels"
   ]
  }
 ],
 "metadata": {
  "kernelspec": {
   "display_name": "Python 3",
   "language": "python",
   "name": "python3"
  },
  "language_info": {
   "codemirror_mode": {
    "name": "ipython",
    "version": 3
   },
   "file_extension": ".py",
   "mimetype": "text/x-python",
   "name": "python",
   "nbconvert_exporter": "python",
   "pygments_lexer": "ipython3",
   "version": "3.10.1"
  }
 },
 "nbformat": 4,
 "nbformat_minor": 5
}
