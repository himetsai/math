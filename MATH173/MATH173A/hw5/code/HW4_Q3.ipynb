{
 "cells": [
  {
   "cell_type": "markdown",
   "metadata": {},
   "source": [
    "# Question 3\n",
    "\n",
    "In this coding question, you'll implement a classifier with logistic regression\n",
    "$$ F(w) = \\frac{1}{N} \\sum_{i=1}^N \\log( 1 + e^{-\\langle w, x_i \\rangle y_i} ). $$"
   ]
  },
  {
   "cell_type": "code",
   "execution_count": 27,
   "metadata": {},
   "outputs": [],
   "source": [
    "# import statements\n",
    "import numpy as np\n",
    "from matplotlib import pyplot as plt\n",
    "from sklearn.datasets import fetch_openml"
   ]
  },
  {
   "cell_type": "markdown",
   "metadata": {},
   "source": [
    "### Load MNIST Data"
   ]
  },
  {
   "cell_type": "code",
   "execution_count": 28,
   "metadata": {},
   "outputs": [
    {
     "name": "stdout",
     "output_type": "stream",
     "text": [
      "X shape: (70000, 784) y shape: (70000,)\n",
      "X shape: (70000, 784) y shape: (70000,)\n",
      "Shape of data with label 0 : (6903, 28, 28)\n",
      "Shape of data with label 1 : (7877, 28, 28)\n",
      "Shape of data with label 2 : (6990, 28, 28)\n",
      "Shape of data with label 3 : (7141, 28, 28)\n",
      "Shape of data with label 4 : (6824, 28, 28)\n",
      "Shape of data with label 5 : (6313, 28, 28)\n",
      "Shape of data with label 6 : (6876, 28, 28)\n",
      "Shape of data with label 7 : (7293, 28, 28)\n",
      "Shape of data with label 8 : (6825, 28, 28)\n",
      "Shape of data with label 9 : (6958, 28, 28)\n"
     ]
    }
   ],
   "source": [
    "# !pip3 install scikit-learn\n",
    "# this cell will take a minute to run depending on your internet connection\n",
    "X, y = fetch_openml('mnist_784', version=1, return_X_y=True) # getting data from online\n",
    "print('X shape:', X.shape, 'y shape:', y.shape)\n",
    "X, y = fetch_openml('mnist_784', version=1, return_X_y=True) # getting data from online\n",
    "print('X shape:', X.shape, 'y shape:', y.shape)\n",
    "# this cell processes some of the data\n",
    "\n",
    "# if this returns an error of the form \"KeyError: 0\", then try running the following first:\n",
    "# X = X.values # this converts X from a pandas dataframe to a numpy array\n",
    "\n",
    "X = X.values\n",
    "digits = {j:[] for j in range(10)}\n",
    "for j in range(len(y)): # takes data assigns it into a dictionary\n",
    "    digits[int(y[j])].append(X[j].reshape(28,28))\n",
    "digits = {j:np.stack(digits[j]) for j in range(10)} # stack everything to be one numpy array\n",
    "for j in range(10):\n",
    "    print('Shape of data with label', j, ':', digits[j].shape )"
   ]
  },
  {
   "cell_type": "markdown",
   "metadata": {},
   "source": [
    "### Data PreProcess"
   ]
  },
  {
   "cell_type": "code",
   "execution_count": 29,
   "metadata": {},
   "outputs": [],
   "source": [
    "x_4 = digits[4][:500].reshape(500,-1)\n",
    "x_9 = digits[9][:500].reshape(500,-1)\n",
    "\n",
    "x_4_test = digits[4][500:1000].reshape(500,-1)\n",
    "x_9_test = digits[9][500:1000].reshape(500,-1)\n",
    "\n",
    "x_train = np.vstack((x_4, x_9))\n",
    "x_train = x_train.astype('float32') / 255.0\n",
    "\n",
    "x_test = np.vstack((x_4_test, x_9_test))\n",
    "x_test = x_test.astype('float32') / 255.0\n",
    "\n",
    "y_train = np.hstack((-1 * np.ones(500), np.ones(500)))\n",
    "y_test = np.hstack((-1 * np.ones(500), np.ones(500)))"
   ]
  },
  {
   "cell_type": "markdown",
   "metadata": {},
   "source": [
    "### Define $F(w)$ and $\\nabla F(w)$"
   ]
  },
  {
   "cell_type": "code",
   "execution_count": 30,
   "metadata": {},
   "outputs": [],
   "source": [
    "def F(w):\n",
    "    sum = 0\n",
    "    N = len(x_train)\n",
    "    for i in range(N):\n",
    "        sum += np.log(1 + np.exp(-y_train[i] * np.dot(w, x_train[i])))\n",
    "    return sum / N\n",
    "\n",
    "def dF(w):\n",
    "    sum = 0\n",
    "    N = len(x_train)\n",
    "    for i in range(N):\n",
    "        sum += -y_train[i] * np.exp(-y_train[i] * np.dot(w, x_train[i])) * x_train[i] / (1 + np.exp(-y_train[i] * np.dot(w, x_train[i])))\n",
    "    return sum / N"
   ]
  },
  {
   "cell_type": "markdown",
   "metadata": {},
   "source": [
    "## Problem Statement\n",
    "\n",
    "We will consider the MNIST coding question from HW4. In this question, we run\n",
    "these questions for *differentiating 4's and 9's*. You can reuse the template\n",
    "from the previous homework for loading / formatting MNIST. Implement the\n",
    "following two methods and plot $F(w)$ per iteration for each. You need to submit\n",
    "(i) the code for the algorithms and plots, and (ii) the plots."
   ]
  },
  {
   "cell_type": "markdown",
   "metadata": {},
   "source": [
    "### Gradient descent with backtracking line search\n",
    "\n",
    "At each iteration $t$, initialize the step size $\\mu=10^{-1}$, and use\n",
    "$\\gamma=0.5$ and $\\beta = 0.8$ to determine the correct $\\mu^{(t)}$. Run your\n",
    "algorithm for at least 10,000 iterations and plot the loss curve $F(w^{(t)})$ as\n",
    "a function of $t$."
   ]
  },
  {
   "cell_type": "code",
   "execution_count": 31,
   "metadata": {},
   "outputs": [
    {
     "data": {
      "image/png": "[encoded data removed]",
      "text/plain": [
       "<Figure size 640x480 with 1 Axes>"
      ]
     },
     "metadata": {},
     "output_type": "display_data"
    }
   ],
   "source": [
    "T = 1000\n",
    "\n",
    "w_values = []\n",
    "iterations = range(T)\n",
    "\n",
    "def gd(w, mu = 1e-1):\n",
    "    return w - mu * dF(w)\n",
    "\n",
    "def backtrack(w, gamma=0.5, beta=0.8):\n",
    "    mu = 1e-1\n",
    "    while F(gd(w, mu)) > F(w) - gamma * mu * np.linalg.norm(dF(w))**2:\n",
    "        mu *= beta\n",
    "    return mu\n",
    "\n",
    "w = np.zeros(x_train.shape[1])\n",
    "for i in iterations:\n",
    "    w_values.append(F(w))\n",
    "    mu = backtrack(w)\n",
    "    w = gd(w, mu)\n",
    "\n",
    "plt.plot(iterations, w_values)\n",
    "plt.xlabel(\"Iteration\")\n",
    "plt.ylabel(r\"Value of $F(w)$\")\n",
    "plt.show()"
   ]
  },
  {
   "cell_type": "markdown",
   "metadata": {},
   "source": [
    "### Error Rate"
   ]
  },
  {
   "cell_type": "code",
   "execution_count": 32,
   "metadata": {},
   "outputs": [
    {
     "name": "stdout",
     "output_type": "stream",
     "text": [
      "Error rate: 4.3 %\n"
     ]
    }
   ],
   "source": [
    "error = 0\n",
    "\n",
    "for i in range(1000):\n",
    "    if np.dot(w, x_test[i]) > 0:\n",
    "        y_test[i] = 1\n",
    "    else:\n",
    "        y_test[i] = -1\n",
    "    error += (y_test[i] != y_train[i])\n",
    "\n",
    "print(\"Error rate:\", error / 1000 * 100, \"%\")"
   ]
  },
  {
   "cell_type": "markdown",
   "metadata": {},
   "source": [
    "### Gradient Descent with Nesterov acceleration. \n",
    "\n",
    "You can experiment with the parameters until you find something you like."
   ]
  },
  {
   "cell_type": "code",
   "execution_count": 35,
   "metadata": {},
   "outputs": [
    {
     "data": {
      "image/png": "[encoded data removed]",
      "text/plain": [
       "<Figure size 640x480 with 1 Axes>"
      ]
     },
     "metadata": {},
     "output_type": "display_data"
    }
   ],
   "source": [
    "T = 1000\n",
    "\n",
    "w_values = []\n",
    "iterations = range(T)\n",
    "\n",
    "def nesterov(w, w_old, mu = 1e-3, beta = 0.9):\n",
    "    v = w + beta * (w - w_old)\n",
    "    return v - mu * dF(v)\n",
    "\n",
    "w = np.zeros(x_train.shape[1])\n",
    "w_old = w\n",
    "for i in iterations:\n",
    "    w_values.append(F(w))\n",
    "    w_temp = w\n",
    "    w = nesterov(w, w_old, mu)\n",
    "    w_old = w\n",
    "\n",
    "plt.plot(iterations, w_values)\n",
    "plt.xlabel(\"Iteration\")\n",
    "plt.ylabel(r\"Value of $F(w)$\")\n",
    "plt.show()"
   ]
  },
  {
   "cell_type": "markdown",
   "metadata": {},
   "source": [
    "### Error Rate"
   ]
  },
  {
   "cell_type": "code",
   "execution_count": 34,
   "metadata": {},
   "outputs": [
    {
     "name": "stdout",
     "output_type": "stream",
     "text": [
      "Error rate: 4.3 %\n"
     ]
    }
   ],
   "source": [
    "error = 0\n",
    "\n",
    "for i in range(1000):\n",
    "    if np.dot(w, x_test[i]) > 0:\n",
    "        y_test[i] = 1\n",
    "    else:\n",
    "        y_test[i] = -1\n",
    "    error += (y_test[i] != y_train[i])\n",
    "\n",
    "print(\"Error rate:\", error / 1000 * 100, \"%\")"
   ]
  }
 ],
 "metadata": {
  "kernelspec": {
   "display_name": "Python 3",
   "language": "python",
   "name": "python3"
  },
  "language_info": {
   "codemirror_mode": {
    "name": "ipython",
    "version": 3
   },
   "file_extension": ".py",
   "mimetype": "text/x-python",
   "name": "python",
   "nbconvert_exporter": "python",
   "pygments_lexer": "ipython3",
   "version": "3.10.1"
  },
  "toc": {
   "base_numbering": 1,
   "nav_menu": {},
   "number_sections": true,
   "sideBar": true,
   "skip_h1_title": false,
   "title_cell": "Table of Contents",
   "title_sidebar": "Contents",
   "toc_cell": false,
   "toc_position": {},
   "toc_section_display": true,
   "toc_window_display": false
  }
 },
 "nbformat": 4,
 "nbformat_minor": 4
}
